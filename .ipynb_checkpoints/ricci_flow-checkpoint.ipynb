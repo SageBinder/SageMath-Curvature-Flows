{
 "cells": [
  {
   "cell_type": "code",
   "execution_count": 72,
   "metadata": {},
   "outputs": [],
   "source": [
    "import numpy as np"
   ]
  },
  {
   "cell_type": "code",
   "execution_count": 73,
   "metadata": {},
   "outputs": [],
   "source": [
    "pi = RR.pi()\n",
    "\n",
    "def integrate_curvature(kappa, s, srange=(0,1), theta_0=0, x_0=0, y_0=0, step=0.1):\n",
    "    theta, x, y = var('θ, x, y')\n",
    "    DE0 = kappa\n",
    "    DE1 = cos(theta)\n",
    "    DE2 = sin(theta)\n",
    "    ICs = [srange[0], theta_0, x_0, y_0]\n",
    "\n",
    "    P = desolve_system_rk4([DE0, DE1, DE2], [theta, x, y], ics=ICs, ivar=s, end_points=srange[1], step=step)\n",
    "    return P\n",
    "\n",
    "\n",
    "def splines_from_curvature(kappa, s, srange=(0,1), theta_0=0, x_0=0, y_0=0, step=0.1):\n",
    "    P = integrate_curvature(kappa, s, srange, theta_0, x_0, y_0, step)\n",
    "\n",
    "    x_spline = spline([(s, x) for s, theta, x, y in P])\n",
    "    y_spline = spline([(s, y) for s, theta, x, y in P])\n",
    "\n",
    "    return (x_spline, y_spline)\n",
    "\n",
    "\n",
    "def spline_avg(f):\n",
    "    a = f.list()[0][0]\n",
    "    b = f.list()[-1][0]\n",
    "    return f.definite_integral(a, b) / (b - a)\n",
    "\n",
    "\n",
    "def splines_to_angular_momentum(x_0, y_0, x_1, y_1, dt, srange=(0,1), center=(0,0)):\n",
    "    def theta(a, b): return arccos(a.inner_product(b) / (a.norm() * b.norm()))\n",
    "    def v_x(z): return (x_0(z) - x_1(z)) / dt\n",
    "    def v_y(z): return (y_0(z) - y_1(z)) / dt\n",
    "    def v(z): return vector([v_x(z), v_y(z)])\n",
    "    def r(z): return sqrt((x_0(z) - center[0])^2 + (y_0(z) - center[1])^2)\n",
    "    def w(z): return v(z).norm() * sin(theta(v(z), vector([x_0(z) - center[0], y_0(z) - center[1]]))) # |v| * sin(theta)\n",
    "    integrand = lambda z: w(z) * r(z) # w * r\n",
    "    angular_momentum = numerical_integral(integrand, srange[0], srange[1])[0] # int_S w * r^2 ds\n",
    "    return angular_momentum\n",
    "\n",
    "\n",
    "def splines_to_moment(x, y, srange=(0,1), center=(0,0)):\n",
    "    return numerical_integral(lambda z: ((x(z) - center[0])^2 + (y(z) - center[1])^2), srange[0], srange[1])[0]\n",
    "\n",
    "\n",
    "def translate_spline(f, dy):\n",
    "    return spline([(x, y + dy) for x, y in f.list()])\n",
    "\n",
    "\n",
    "def rotate_splines(x, y, theta):\n",
    "    x_list = x.list()\n",
    "    y_list = y.list()\n",
    "    \n",
    "    R = matrix([[cos(theta), -sin(theta)], [sin(theta), cos(theta)]])\n",
    "    \n",
    "    completed_x_list = [(s, x, y(s)) for s, x in x_list]\n",
    "    completed_y_list = [(s, x(s), y) for s, y in y_list]\n",
    "    \n",
    "    rotated_x_spline = spline([(s, (R*vector([x, y]))[0]) for s, x, y in completed_x_list])\n",
    "    rotated_y_spline = spline([(s, (R*vector([x, y]))[1]) for s, x, y in completed_y_list])\n",
    "    \n",
    "    return (rotated_x_spline, rotated_y_spline)\n",
    "\n",
    "\n",
    "def splines_fix_center(x, y, center=(0,0)):\n",
    "    x_bar = spline_avg(x)\n",
    "    y_bar = spline_avg(y)\n",
    "    return (translate_spline(x, -x_bar + center[0]), translate_spline(y, -y_bar + center[1]))\n",
    "\n",
    "def splines_from_curvature_fix_center(kappa, s, srange=(0,1), theta_0=0, center=(0,0), step=0.1):\n",
    "    x, y = splines_from_curvature(kappa, s, srange, theta_0, 0, 0, step)\n",
    "    return splines_fix_center(x, y, center)\n",
    "\n",
    "\n",
    "def flow_curvature(kappa, srange, arange, acount, theta_0=0, center=(0,0), step=0.1):\n",
    "    splines = []\n",
    "    rotated_splines = []\n",
    "    space, dt = np.linspace(arange[0], arange[1], acount, retstep=True)\n",
    "    total_counterrotation = 0\n",
    "    curves = []\n",
    "    for a in space:\n",
    "        print(f\"Calculating curve for a = {a}...\")\n",
    "        x, y = splines_from_curvature_fix_center(kappa(s, a), s, srange=srange, theta_0=theta_0, center=center, step=step)\n",
    "        # print(x.list())\n",
    "        # print(y.list())\n",
    "        print(\"Done with curvature integration.\")\n",
    "\n",
    "        if len(splines) >= 1:\n",
    "            print(\"Calculating angular momentum...\")\n",
    "            angular_momentum = splines_to_angular_momentum(splines[-1][0], splines[-1][1], x, y, dt, srange=srange, center=center)\n",
    "            print(\"Done with angular momentum.\")\n",
    "            print(\"Calculating moment...\")\n",
    "            I = splines_to_moment(x, y, srange=srange, center=center)\n",
    "            print(\"Done with moment.\")\n",
    "            print(f\"I = {I}\")\n",
    "            angular_velocity = angular_momentum / I\n",
    "            dtheta = angular_velocity * dt\n",
    "            total_counterrotation += dtheta\n",
    "            print(f\"dtheta: {dtheta}\\n\")\n",
    "            \n",
    "        rotated_x, rotated_y = rotate_splines(x, y, total_counterrotation)\n",
    "        rotated_translated_x, rotated_translated_y = splines_fix_center(rotated_x, rotated_y, center)\n",
    "        rotated_splines.append((rotated_translated_x, rotated_translated_y))\n",
    "        splines.append((x, y))\n",
    "        \n",
    "    return splines, rotated_splines"
   ]
  },
  {
   "cell_type": "code",
   "execution_count": 74,
   "metadata": {},
   "outputs": [],
   "source": [
    "def metric_surf_rev_numerical(phi, psi):\n",
    "    def g(u, v):\n",
    "        X_u = vector([-phi(v)*sin(u), phi(v)*cos(u), 0])\n",
    "        X_v = vector([phi.derivative(v)*cos(u), phi.derivative(v)*sin(u), psi.derivative(v)])\n",
    "        E = X_u.dot_product(X_u)\n",
    "        G = X_v.dot_product(X_v)\n",
    "        return matrix([[E, 0], [0, G]])\n",
    "    return g\n",
    "\n",
    "\n",
    "def sample_metric_eigenvals(g, urange=(-1, 1), vrange=(-1, 1), ucount=5, vcount=5, sq_len=0.2):\n",
    "    def angle(a, b):\n",
    "        return arccos(a.inner_product(b) / (a.norm() * b.norm())) if a.norm() * b.norm() != 0 else 0\n",
    "    \n",
    "    squares = []\n",
    "    transformed_squares = []\n",
    "    ellipses = []\n",
    "\n",
    "    uspace = np.linspace(urange[0], urange[1], ucount)\n",
    "    vspace = np.linspace(vrange[0], vrange[1], vcount)\n",
    "    space = cartesian_product_iterator([uspace, vspace])\n",
    "    for u, v in space:\n",
    "        g_curr = g(u, v)\n",
    "        eigenvectors = g_curr.eigenvectors_right()\n",
    "        eigvec = eigenvectors[0][1][0]\n",
    "        k1 = eigenvectors[0][0]\n",
    "        if eigenvectors[0][2] == 2:\n",
    "            k2 = k1\n",
    "        else:\n",
    "            k2 = eigenvectors[1][0]\n",
    "        \n",
    "        square = matrix([[0, -sq_len/2, 0, sq_len/2], [-sq_len/2, 0, sq_len/2, 0]])\n",
    "        cross = vector([eigvec[0], eigvec[1], 0]).cross_product(vector([1, 0, 0]))\n",
    "        theta = arctan2(cross[2], eigvec.dot_product(vector([1, 0])))\n",
    "        R = matrix([[cos(theta), sin(theta)], [-sin(theta), cos(theta)]])\n",
    "        \n",
    "        translate = matrix([[u, u, u, u], [v, v, v, v]])\n",
    "        transformed = g_curr * R * square\n",
    "        \n",
    "        squares.append((R * square) + translate)\n",
    "        transformed_squares.append(transformed + translate)\n",
    "        ellipses.append((u, v, k1*sq_len/2, k2*sq_len/2, -theta))\n",
    "\n",
    "    return squares, transformed_squares, ellipses"
   ]
  },
  {
   "cell_type": "code",
   "execution_count": 75,
   "metadata": {},
   "outputs": [],
   "source": [
    "def curvature_surf_rev_numerical(phi):    \n",
    "    def K(u, v):\n",
    "        dphi = phi.derivative(v)\n",
    "        d2phi = phi.derivative(v, order=2)\n",
    "        dpsi = psi.derivative(v)\n",
    "        d2psi = psi.derivative(v, order=2)\n",
    "        \n",
    "#         Go back to using formula with parametrization by arc length\n",
    "        numerator = (-dpsi**2 * d2phi) + (dphi * dpsi * d2psi)\n",
    "        denominator = phi(v) * (dphi**2 + dpsi**2)**2\n",
    "        \n",
    "        \n",
    "        return numerator / denominator\n",
    "    \n",
    "    def k1(u, v):\n",
    "        return 1 / phi(v)\n",
    "    \n",
    "    def k2(u, v):\n",
    "        return K(u, v) / k1(u, v)\n",
    "    \n",
    "    return k1, k2, K"
   ]
  },
  {
   "cell_type": "code",
   "execution_count": 76,
   "metadata": {},
   "outputs": [],
   "source": [
    "def reparametrize_by_arclength(x, y, *splines, t0=None, tf=None, dt=0.001, ds=0.1):\n",
    "    if t0 is None:\n",
    "        t0 = x.list()[0][0]\n",
    "    if tf is None:\n",
    "        tf = x.list()[-1][0]\n",
    "        \n",
    "    t_prev = t0 \n",
    "    t = dt\n",
    "    \n",
    "    step_dist = 0\n",
    "    total_dist = 0\n",
    "    \n",
    "    x_list = [(t0, x(t0))]\n",
    "    y_list = [(t0, y(t0))]\n",
    "    splines_lists = []\n",
    "    for i in range(len(splines)):\n",
    "        splines_list.append([])\n",
    "    \n",
    "    def reparametrize_step():\n",
    "        x_list.append((total_dist, x(t)))\n",
    "        y_list.append((total_dist, y(t)))\n",
    "        for i, spline_list in enumerate(splines_lists):\n",
    "            spline_list.append((total_dist, splines[i](t)))\n",
    "    \n",
    "    while t <= tf:\n",
    "        x_diff = x(t) - x(t_prev)\n",
    "        y_diff = y(t) - y(t_prev)\n",
    "        \n",
    "        dist = sqrt(x_diff**2 + y_diff**2)\n",
    "        step_dist += dist\n",
    "        total_dist += dist\n",
    "        \n",
    "        if step_dist >= ds:\n",
    "            reparametrize_step()\n",
    "            step_dist = 0\n",
    "        \n",
    "        t_prev = t\n",
    "        t += dt\n",
    "    \n",
    "    if total_dist > x.list()[-1][0]:\n",
    "        t = t_prev\n",
    "        reparametrize_step()\n",
    "    \n",
    "    new_x_spline = spline(x_list)\n",
    "    new_y_spline = spline(y_list)\n",
    "    new_splines = map(lambda spline_list: spline(spline_list), splines_lists)\n",
    "    \n",
    "    if len(splines_lists) > 0:\n",
    "        return new_x_spline, new_y_spline, new_splines\n",
    "    else:\n",
    "        return new_x_spline, new_y_spline"
   ]
  },
  {
   "cell_type": "code",
   "execution_count": 85,
   "metadata": {},
   "outputs": [
    {
     "data": {
      "image/png": "[encoded data removed]",
      "text/plain": [
       "Graphics object consisting of 2 graphics primitives"
      ]
     },
     "metadata": {},
     "output_type": "display_data"
    }
   ],
   "source": [
    "# x = spline([(0, 1), (1, 2), (4, 5), (5, 3)])\n",
    "# y = spline([(0, 2), (1, 4), (4, 5), (5, 3)])\n",
    "srange=(0, 4*RR.pi())\n",
    "kappa(s) = sin(3*s)+cos(s)\n",
    "x, y = splines_from_curvature(kappa, s, srange, step=0.01)\n",
    "xs, ys = reparametrize_by_arclength(x, y, ds=0.02)\n",
    "plot1 = parametric_plot((x, y), srange, color='blue')\n",
    "plot2 = parametric_plot((xs, ys), (xs.list()[0][0], xs.list()[-1][0]), color='red', linestyle='--')\n",
    "show(plot1 + plot2)"
   ]
  },
  {
   "cell_type": "code",
   "execution_count": 297,
   "metadata": {},
   "outputs": [],
   "source": [
    "def xy_splines_from_hm(h, m, srange=(0, pi), step_size=0.1):\n",
    "    def y(rho):\n",
    "        return sqrt(m(rho))\n",
    "    \n",
    "    rho_space = np.linspace(srange[0], srange[1], round((srange[1] - srange[0]) / step_size))\n",
    "    y_spline = spline([(rho, y(rho)) for rho in rho_space])\n",
    "    \n",
    "    def x(rho):\n",
    "        return numerical_integral(lambda s: sqrt(h(s) - (y_spline.derivative(s))**2), 0.01, rho)[0]\n",
    "    \n",
    "    x_spline = spline([(rho, x(rho)) for rho in rho_space])\n",
    "    \n",
    "    return x_spline, y_spline"
   ]
  },
  {
   "cell_type": "code",
   "execution_count": 298,
   "metadata": {},
   "outputs": [],
   "source": [
    "def to_spline(f, srange=(0, pi), step_size=0.01):\n",
    "    return spline([(s, f(s)) for s in np.linspace(srange[0], srange[1], round((srange[1] - srange[0]) / step_size))])"
   ]
  },
  {
   "cell_type": "code",
   "execution_count": 299,
   "metadata": {},
   "outputs": [],
   "source": [
    "c3 = 3\n",
    "c5 = 5\n",
    "h(rho) = 1\n",
    "m(rho) = ((sin(rho) + c3*sin(3*rho) + c5*sin(5*rho))/(1 + 3*c3 + 5*c5))**2"
   ]
  },
  {
   "cell_type": "code",
   "execution_count": 300,
   "metadata": {},
   "outputs": [],
   "source": [
    "srange=(0.01, pi-0.01)\n",
    "h = to_spline(h, srange)\n",
    "m = to_spline(m, srange)\n"
   ]
  },
  {
   "cell_type": "code",
   "execution_count": 301,
   "metadata": {},
   "outputs": [
    {
     "name": "stdout",
     "output_type": "stream",
     "text": [
      "[(0.01, 0.0), (0.11405308845299311, 0.029096804231788165), (0.21810617690598624, 0.09888597145807905), (0.3221592653589794, 0.1951137007476987), (0.4262123538119725, 0.29806027407579694), (0.5302654422649656, 0.39014711439170646), (0.6343185307179587, 0.4617748813476227), (0.7383716191709518, 0.5162258664902115), (0.842424707623945, 0.6077603448913568), (0.946477796076938, 0.7031737008541771), (1.0505308845299313, 0.8067431977856387), (1.1545839729829244, 0.9063826110752979), (1.2586370614359175, 0.9979744007177274), (1.3626901498889106, 1.100094830379574), (1.4667432383419037, 1.196042277348862), (1.5707963267948968, 1.2985792108409322), (1.6748494152478899, 1.4011162059545355), (1.778902503700883, 1.4970636330465357), (1.882955592153876, 1.5991840886218864), (1.9870086806068692, 1.690775896630012), (2.0910617690598623, 1.790415266886343), (2.195114857512855, 1.8939847996123085), (2.2991679459658485, 1.9893981279778175), (2.4032210344188414, 2.080932641486916), (2.5072741228718347, 2.1353836022617334), (2.6113272113248276, 2.207011373710452), (2.715380299777821, 2.2990982314586654), (2.819433388230814, 2.4020448007784276), (2.923486476683807, 2.4982725323839694), (3.0275395651368, 2.568061709339694), (3.1315926535897933, 2.5971584216818635)]\n"
     ]
    }
   ],
   "source": [
    "x, y = xy_splines_from_hm(h, m, srange)\n",
    "print(x.list())"
   ]
  },
  {
   "cell_type": "code",
   "execution_count": 302,
   "metadata": {},
   "outputs": [
    {
     "data": {
      "image/png": "[encoded data removed]",
      "text/plain": [
       "Graphics object consisting of 1 graphics primitive"
      ]
     },
     "execution_count": 302,
     "metadata": {},
     "output_type": "execute_result"
    }
   ],
   "source": [
    "parametric_plot((x, y), (x.list()[0][0], x.list()[-1][0]))"
   ]
  },
  {
   "cell_type": "code",
   "execution_count": 307,
   "metadata": {},
   "outputs": [
    {
     "name": "stdout",
     "output_type": "stream",
     "text": [
      "[(0.01, 9.993268578613436e-05), (0.020037275413472007, 0.0006213517165183282), (0.030074550826944012, 0.0011939895726799485), (0.04011182624041602, 0.001924092230117398), (0.05014910165388802, 0.0028281632106980253), (0.060186377067360027, 0.003906437097294649), (0.07022365248083202, 0.005153465926953214), (0.08026092789430403, 0.006560828210781253), (0.09029820330777603, 0.008118093777433135), (0.10033547872124804, 0.00981327239293435), (0.11037275413472004, 0.011633080716692007), (0.12041002954819205, 0.013554171395471853), (0.13044730496166407, 0.015566588558062767), (0.14048458037513606, 0.017659379243780218), (0.15052185578860808, 0.019815477747299463), (0.1605591312020801, 0.022017435166075496), (0.1705964066155521, 0.024247544386614098), (0.18063368202902408, 0.02648797400104678), (0.1906709574424961, 0.02872090730441233), (0.20070823285596812, 0.030928683547031714), (0.2107455082694401, 0.03309393920885545), (0.2207827836829121, 0.03519708959340824), (0.23082005909638412, 0.037217473982548405), (0.24085733450985614, 0.03914686053373384), (0.2508946099233281, 0.04097032053363743), (0.2609318853368001, 0.04267388284467408), (0.2709691607502721, 0.04424463946682866), (0.28100643616374416, 0.04567084220025689), (0.29104371157721615, 0.046941989372540766), (0.30108098699068814, 0.048048901755558884), (0.3111182624041602, 0.04898378694669048), (0.3211555378176322, 0.04974029163246731), (0.33119281323110417, 0.0503097229068303), (0.34123008864457616, 0.05069213065260832), (0.35126736405804815, 0.050886059506404666), (0.3613046394715202, 0.050891147539406496), (0.3713419148849922, 0.05070853992183163), (0.3813791902984642, 0.050340863167868025), (0.3914164657119362, 0.0497921869529323), (0.4014537411254082, 0.049067973961076254), (0.4114910165388802, 0.048175018343282694), (0.4215282919523522, 0.04712137348654888), (0.4315655673658242, 0.045901911944797764), (0.44160284277929623, 0.044528061322490514), (0.4516401181927682, 0.04302326475208796), (0.4616773936062402, 0.041399434510985274), (0.47171466901971226, 0.03966922710019196), (0.48175194443318425, 0.03784591997632712), (0.49178921984665624, 0.03594328416740447), (0.5018264952601282, 0.03397545389919353), (0.5118637706736002, 0.031956794389558264), (0.5219010460870722, 0.029901768988757557), (0.5319383215005442, 0.02783885802143316), (0.5419755969140163, 0.025842110650096693), (0.5520128723274883, 0.023858527986813437), (0.5620501477409603, 0.02190286739625568), (0.5720874231544323, 0.019989660268338146), (0.5821246985679043, 0.018133204803522106), (0.5921619739813763, 0.016347616127409103), (0.6021992493948483, 0.01464696637528849), (0.6122365248083204, 0.013045572450360966), (0.6222738002217924, 0.011558539087918507), (0.6323110756352643, 0.010202770363592517), (0.6423483510487363, 0.00847572317202617), (0.6523856264622083, 0.006642944155245594), (0.6624229018756803, 0.004775363187327462), (0.6724601772891523, 0.002797723216106736), (0.6824974527026243, 0.0005887864824225685), (0.6925347281160963, -0.0020474342073087525), (0.7025720035295684, -0.005423897807516101), (0.7126092789430404, -0.010009694698678823), (0.7226465543565124, -0.016361728786060167), (0.7326838297699844, -0.02458834547052293), (0.7427211051834564, -0.0296259716393558), (0.7527583805969283, -0.02659713374793739), (0.7627956560104003, -0.020506219773965065), (0.7728329314238724, -0.01408883069414547), (0.7828702068373444, -0.008842450624667096), (0.7929074822508164, -0.004935898777132387), (0.8029447576642884, -0.002057019869098476), (0.8129820330777604, 0.00013200872825008705), (0.8230193084912324, 0.0018809554234275904), (0.8330565839047044, 0.003355126007096235), (0.8430938593181764, 0.004602028809772564), (0.8531311347316484, 0.005015433487840399), (0.8631684101451205, 0.005486040547311794), (0.8732056855585925, 0.005992720654549984), (0.8832429609720645, 0.006518699911023164), (0.8932802363855364, 0.007049984465996764), (0.9033175117990084, 0.0075745313879428105), (0.9133547872124804, 0.008081796936194947), (0.9233920626259524, 0.008562485982864425), (0.9334293380394245, 0.009008412599154966), (0.9434666134528965, 0.009412423236555119), (0.9535038888663685, 0.009778800363873744), (0.9635411642798405, 0.010095992826253657), (0.9735784396933125, 0.010355388613203342), (0.9836157151067845, 0.010553858629858817), (0.9936529905202565, 0.010689186204142134), (1.0036902659337283, 0.01076005795236661), (1.0137275413472004, 0.010766048214787494), (1.0237648167606725, 0.01070759656431437), (1.0338020921741444, 0.010585978206151613), (1.0438393675876165, 0.010403267329928724), (1.0538766430010884, 0.010176322393725457), (1.0639139184145605, 0.009923474596694834), (1.0739511938280326, 0.00962166116408888), (1.0839884692415045, 0.009276283190766904), (1.0940257446549766, 0.008893391636491804), (1.1040630200684485, 0.008479666624913439), (1.1141002954819206, 0.008042414601504832), (1.1241375708953925, 0.00758959571006385), (1.1341748463088646, 0.007129901391292288), (1.1442121217223367, 0.0066729160353132064), (1.1542493971358085, 0.006229422681057204), (1.1642866725492806, 0.005414881960075003), (1.1743239479627525, 0.004556901791839784), (1.1843612233762246, 0.0036576889343501724), (1.1943984987896965, 0.0027015121603204905), (1.2044357742031686, 0.0016657217722689422), (1.2144730496166407, 0.000519063214157136), (1.2245103250301126, -0.0007790383675310253), (1.2345476004435847, -0.0022758615448500033), (1.2445848758570566, -0.0040144127750601725), (1.2546221512705287, -0.006005821800130233), (1.2646594266840006, -0.007217337699070435), (1.2746967020974727, -0.007579892488021585), (1.2847339775109445, -0.007596175675190699), (1.2947712529244166, -0.007249776674569855), (1.3048085283378887, -0.006591060767349742), (1.3148458037513606, -0.005718036555510056), (1.3248830791648327, -0.004738346544040105), (1.3349203545783046, -0.003738070625293773), (1.3449576299917767, -0.002770277974586575), (1.3549949054052486, -0.0018591441594125518), (1.3650321808187207, -0.0009788471370280845), (1.3750694562321926, -7.097883840951908e-05), (1.3851067316456647, 0.0007641745923426753), (1.3951440070591368, 0.0015404953709868894), (1.4051812824726087, 0.0022698469373558837), (1.4152185578860808, 0.0029612991987577196), (1.4252558332995526, 0.0036211868062378774), (1.4352931087130247, 0.004253505027626447), (1.4453303841264966, 0.00486040020359792), (1.4553676595399687, 0.00544264964018326), (1.4654049349534408, 0.006000094627733078), (1.4754422103669127, 0.006337462560896126), (1.4854794857803848, 0.006631720139851784), (1.4955167611938567, 0.006906986784110161), (1.5055540366073288, 0.007157127499814044), (1.5155913120208007, 0.00737682777707608), (1.5256285874342728, 0.007561531892309751), (1.5356658628477449, 0.007707409776620846), (1.5457031382612167, 0.0078113399815137), (1.5557404136746888, 0.00787090089857146), (1.5657776890881607, 0.00788436516269594), (1.5758149645016328, 0.007884365162695941), (1.5858522399151047, 0.007870900898571459), (1.5958895153285768, 0.0078113399815137), (1.6059267907420487, 0.007707409776620848), (1.6159640661555208, 0.007561531892309749), (1.626001341568993, 0.00737682777707608), (1.6360386169824648, 0.007157127499814053), (1.6460758923959369, 0.006906986784110171), (1.6561131678094088, 0.006631720139851783), (1.6661504432228809, 0.006337462560896132), (1.6761877186363527, 0.006000094627733096), (1.6862249940498248, 0.005442649640183272), (1.6962622694632967, 0.004860400203597943), (1.7062995448767688, 0.004253505027626437), (1.716336820290241, 0.003621186806237863), (1.7263740957037128, 0.0029612991987576867), (1.736411371117185, 0.00226984693735584), (1.7464486465306568, 0.001540495370986839), (1.756485921944129, 0.0007641745923426086), (1.7665231973576008, -7.097883840958587e-05), (1.7765604727710729, -0.0009788471370282246), (1.786597748184545, -0.0018591441594126858), (1.7966350235980169, -0.0027702779745867145), (1.806672299011489, -0.0037380706252939052), (1.8167095744249608, -0.004738346544040218), (1.826746849838433, -0.005718036555510146), (1.8367841252519048, -0.006591060767349794), (1.846821400665377, -0.0072497766745698595), (1.856858676078849, -0.007596175675190652), (1.866895951492321, -0.007579892488021493), (1.876933226905793, -0.007217337699070307), (1.8869705023192649, -0.006005821800130099), (1.897007777732737, -0.0040144127750600675), (1.9070450531462089, -0.002275861544849915), (1.917082328559681, -0.0007790383675309567), (1.9271196039731529, 0.0005190632141571744), (1.937156879386625, 0.0016657217722689682), (1.947194154800097, 0.0027015121603205083), (1.957231430213569, 0.003657688934350185), (1.967268705627041, 0.00455690179183982), (1.977305981040513, 0.005414881960075028), (1.987343256453985, 0.006229422681057222), (1.997380531867457, 0.006672916035313206), (2.007417807280929, 0.007129901391292287), (2.0174550826944007, 0.0075895957100638465), (2.0274923581078728, 0.008042414601504828), (2.037529633521345, 0.008479666624913442), (2.047566908934817, 0.00889339163649181), (2.0576041843482886, 0.009276283190766909), (2.0676414597617607, 0.00962166116408891), (2.077678735175233, 0.009923474596694867), (2.087716010588705, 0.01017632239372549), (2.0977532860021766, 0.010403267329928738), (2.1077905614156487, 0.010585978206151602), (2.117827836829121, 0.01070759656431438), (2.127865112242593, 0.010766048214787483), (2.137902387656065, 0.010760057952366611), (2.1479396630695367, 0.010689186204142125), (2.1579769384830088, 0.0105538586298588), (2.168014213896481, 0.01035538861320333), (2.178051489309953, 0.010095992826253635), (2.188088764723425, 0.00977880036387372), (2.1981260401368967, 0.009412423236555105), (2.208163315550369, 0.009008412599154952), (2.218200590963841, 0.008562485982864411), (2.228237866377313, 0.008081796936194931), (2.2382751417907847, 0.0075745313879428166), (2.248312417204257, 0.0070499844659967625), (2.258349692617729, 0.0065186999110231555), (2.268386968031201, 0.005992720654549973), (2.278424243444673, 0.0054860405473117725), (2.2884615188581447, 0.005015433487840391), (2.298498794271617, 0.004602028809772559), (2.308536069685089, 0.0033551260070962276), (2.318573345098561, 0.001880955423427577), (2.3286106205120327, 0.00013200872825012869), (2.338647895925505, -0.002057019869098449), (2.348685171338977, -0.004935898777132384), (2.358722446752449, -0.008842450624667143), (2.368759722165921, -0.014088830694145594), (2.378796997579393, -0.020506219773964884), (2.388834272992865, -0.02659713374793729), (2.398871548406337, -0.029625971639355732), (2.408908823819809, -0.02458834547052271), (2.418946099233281, -0.016361728786059945), (2.428983374646753, -0.010009694698678852), (2.439020650060225, -0.005423897807516086), (2.449057925473697, -0.002047434207308743), (2.459095200887169, 0.0005887864824226019), (2.469132476300641, 0.0027977232161066736), (2.479169751714113, 0.004775363187327455), (2.489207027127585, 0.006642944155245569), (2.499244302541057, 0.00847572317202621), (2.509281577954529, 0.010202770363592528), (2.519318853368001, 0.011558539087918486), (2.529356128781473, 0.01304557245036097), (2.539393404194945, 0.014646966375288492), (2.549430679608417, 0.01634761612740913), (2.559467955021889, 0.01813320480352209), (2.569505230435361, 0.01998966026833814), (2.579542505848833, 0.021902867396255694), (2.589579781262305, 0.023858527986813493), (2.5996170566757772, 0.02584211065009676), (2.609654332089249, 0.02783885802143317), (2.619691607502721, 0.02990176898875758), (2.629728882916193, 0.03195679438955832), (2.639766158329665, 0.03397545389919361), (2.649803433743137, 0.03594328416740449), (2.659840709156609, 0.03784591997632708), (2.669877984570081, 0.03966922710019201), (2.679915259983553, 0.04139943451098527), (2.6899525353970253, 0.04302326475208802), (2.699989810810497, 0.04452806132249048), (2.710027086223969, 0.04590191194479774), (2.720064361637441, 0.04712137348654887), (2.7301016370509132, 0.04817501834328271), (2.740138912464385, 0.049067973961076254), (2.750176187877857, 0.0497921869529323), (2.760213463291329, 0.05034086316786803), (2.770250738704801, 0.05070853992183163), (2.7802880141182733, 0.050891147539406496), (2.790325289531745, 0.05088605950640468), (2.800362564945217, 0.05069213065260833), (2.810399840358689, 0.05030972290683031), (2.8204371157721613, 0.0497402916324673), (2.8304743911856334, 0.048983786946690464), (2.840511666599105, 0.04804890175555891), (2.850548942012577, 0.04694198937254076), (2.8605862174260492, 0.04567084220025688), (2.8706234928395213, 0.04424463946682863), (2.880660768252993, 0.042673882844674084), (2.890698043666465, 0.04097032053363743), (2.900735319079937, 0.03914686053373381), (2.9107725944934093, 0.03721747398254837), (2.9208098699068814, 0.035197089593408185), (2.930847145320353, 0.033093939208855463), (2.940884420733825, 0.030928683547031696), (2.9509216961472973, 0.02872090730441231), (2.9609589715607694, 0.026487974001046743), (2.970996246974241, 0.024247544386614125), (2.981033522387713, 0.022017435166075496), (2.9910707978011852, 0.019815477747299443), (3.0011080732146573, 0.017659379243780186), (3.0111453486281294, 0.015566588558062712), (3.021182624041601, 0.013554171395471885), (3.031219899455073, 0.011633080716692003), (3.0412571748685453, 0.009813272392934343), (3.0512944502820174, 0.008118093777433095), (3.0613317256954895, 0.006560828210781214), (3.071369001108961, 0.005153465926953225), (3.0814062765224333, 0.003906437097294648), (3.0914435519359054, 0.002828163210698014), (3.1014808273493775, 0.0019240922301173814), (3.111518102762849, 0.001193989572679956), (3.1215553781763212, 0.0006213517165183306), (3.1315926535897933, 9.993268578613256e-05)]\n"
     ]
    },
    {
     "ename": "ValueError",
     "evalue": "math domain error",
     "output_type": "error",
     "traceback": [
      "\u001b[0;31m---------------------------------------------------------------------------\u001b[0m",
      "\u001b[0;31mValueError\u001b[0m                                Traceback (most recent call last)",
      "\u001b[0;32m<ipython-input-307-1d89b87b31dc>\u001b[0m in \u001b[0;36m<module>\u001b[0;34m\u001b[0m\n\u001b[1;32m      6\u001b[0m \u001b[0mm_\u001b[0m \u001b[0;34m=\u001b[0m \u001b[0mspline\u001b[0m\u001b[0;34m(\u001b[0m\u001b[0;34m[\u001b[0m\u001b[0;34m(\u001b[0m\u001b[0mrho\u001b[0m\u001b[0;34m,\u001b[0m \u001b[0mm_rho_\u001b[0m \u001b[0;34m-\u001b[0m \u001b[0mInteger\u001b[0m\u001b[0;34m(\u001b[0m\u001b[0;36m2\u001b[0m\u001b[0;34m)\u001b[0m\u001b[0;34m*\u001b[0m\u001b[0mK\u001b[0m\u001b[0;34m(\u001b[0m\u001b[0my\u001b[0m\u001b[0;34m,\u001b[0m \u001b[0mrho\u001b[0m\u001b[0;34m)\u001b[0m\u001b[0;34m*\u001b[0m\u001b[0mdt\u001b[0m\u001b[0;34m)\u001b[0m \u001b[0;32mfor\u001b[0m \u001b[0mrho\u001b[0m\u001b[0;34m,\u001b[0m \u001b[0mm_rho_\u001b[0m \u001b[0;32min\u001b[0m \u001b[0mm\u001b[0m\u001b[0;34m.\u001b[0m\u001b[0mlist\u001b[0m\u001b[0;34m(\u001b[0m\u001b[0;34m)\u001b[0m\u001b[0;34m]\u001b[0m\u001b[0;34m)\u001b[0m\u001b[0;34m\u001b[0m\u001b[0;34m\u001b[0m\u001b[0m\n\u001b[1;32m      7\u001b[0m \u001b[0mprint\u001b[0m\u001b[0;34m(\u001b[0m\u001b[0mm_\u001b[0m\u001b[0;34m.\u001b[0m\u001b[0mlist\u001b[0m\u001b[0;34m(\u001b[0m\u001b[0;34m)\u001b[0m\u001b[0;34m)\u001b[0m\u001b[0;34m\u001b[0m\u001b[0;34m\u001b[0m\u001b[0m\n\u001b[0;32m----> 8\u001b[0;31m \u001b[0mx\u001b[0m\u001b[0;34m,\u001b[0m \u001b[0my\u001b[0m \u001b[0;34m=\u001b[0m \u001b[0mxy_splines_from_hm\u001b[0m\u001b[0;34m(\u001b[0m\u001b[0mh_\u001b[0m\u001b[0;34m,\u001b[0m \u001b[0mm_\u001b[0m\u001b[0;34m,\u001b[0m \u001b[0msrange\u001b[0m\u001b[0;34m)\u001b[0m\u001b[0;34m\u001b[0m\u001b[0;34m\u001b[0m\u001b[0m\n\u001b[0m",
      "\u001b[0;32m<ipython-input-297-589172d3ee6f>\u001b[0m in \u001b[0;36mxy_splines_from_hm\u001b[0;34m(h, m, srange, step_size)\u001b[0m\n\u001b[1;32m      4\u001b[0m \u001b[0;34m\u001b[0m\u001b[0m\n\u001b[1;32m      5\u001b[0m     \u001b[0mrho_space\u001b[0m \u001b[0;34m=\u001b[0m \u001b[0mnp\u001b[0m\u001b[0;34m.\u001b[0m\u001b[0mlinspace\u001b[0m\u001b[0;34m(\u001b[0m\u001b[0msrange\u001b[0m\u001b[0;34m[\u001b[0m\u001b[0mInteger\u001b[0m\u001b[0;34m(\u001b[0m\u001b[0;36m0\u001b[0m\u001b[0;34m)\u001b[0m\u001b[0;34m]\u001b[0m\u001b[0;34m,\u001b[0m \u001b[0msrange\u001b[0m\u001b[0;34m[\u001b[0m\u001b[0mInteger\u001b[0m\u001b[0;34m(\u001b[0m\u001b[0;36m1\u001b[0m\u001b[0;34m)\u001b[0m\u001b[0;34m]\u001b[0m\u001b[0;34m,\u001b[0m \u001b[0mround\u001b[0m\u001b[0;34m(\u001b[0m\u001b[0;34m(\u001b[0m\u001b[0msrange\u001b[0m\u001b[0;34m[\u001b[0m\u001b[0mInteger\u001b[0m\u001b[0;34m(\u001b[0m\u001b[0;36m1\u001b[0m\u001b[0;34m)\u001b[0m\u001b[0;34m]\u001b[0m \u001b[0;34m-\u001b[0m \u001b[0msrange\u001b[0m\u001b[0;34m[\u001b[0m\u001b[0mInteger\u001b[0m\u001b[0;34m(\u001b[0m\u001b[0;36m0\u001b[0m\u001b[0;34m)\u001b[0m\u001b[0;34m]\u001b[0m\u001b[0;34m)\u001b[0m \u001b[0;34m/\u001b[0m \u001b[0mstep_size\u001b[0m\u001b[0;34m)\u001b[0m\u001b[0;34m)\u001b[0m\u001b[0;34m\u001b[0m\u001b[0;34m\u001b[0m\u001b[0m\n\u001b[0;32m----> 6\u001b[0;31m     \u001b[0my_spline\u001b[0m \u001b[0;34m=\u001b[0m \u001b[0mspline\u001b[0m\u001b[0;34m(\u001b[0m\u001b[0;34m[\u001b[0m\u001b[0;34m(\u001b[0m\u001b[0mrho\u001b[0m\u001b[0;34m,\u001b[0m \u001b[0my\u001b[0m\u001b[0;34m(\u001b[0m\u001b[0mrho\u001b[0m\u001b[0;34m)\u001b[0m\u001b[0;34m)\u001b[0m \u001b[0;32mfor\u001b[0m \u001b[0mrho\u001b[0m \u001b[0;32min\u001b[0m \u001b[0mrho_space\u001b[0m\u001b[0;34m]\u001b[0m\u001b[0;34m)\u001b[0m\u001b[0;34m\u001b[0m\u001b[0;34m\u001b[0m\u001b[0m\n\u001b[0m\u001b[1;32m      7\u001b[0m \u001b[0;34m\u001b[0m\u001b[0m\n\u001b[1;32m      8\u001b[0m     \u001b[0;32mdef\u001b[0m \u001b[0mx\u001b[0m\u001b[0;34m(\u001b[0m\u001b[0mrho\u001b[0m\u001b[0;34m)\u001b[0m\u001b[0;34m:\u001b[0m\u001b[0;34m\u001b[0m\u001b[0;34m\u001b[0m\u001b[0m\n",
      "\u001b[0;32m<ipython-input-297-589172d3ee6f>\u001b[0m in \u001b[0;36m<listcomp>\u001b[0;34m(.0)\u001b[0m\n\u001b[1;32m      4\u001b[0m \u001b[0;34m\u001b[0m\u001b[0m\n\u001b[1;32m      5\u001b[0m     \u001b[0mrho_space\u001b[0m \u001b[0;34m=\u001b[0m \u001b[0mnp\u001b[0m\u001b[0;34m.\u001b[0m\u001b[0mlinspace\u001b[0m\u001b[0;34m(\u001b[0m\u001b[0msrange\u001b[0m\u001b[0;34m[\u001b[0m\u001b[0mInteger\u001b[0m\u001b[0;34m(\u001b[0m\u001b[0;36m0\u001b[0m\u001b[0;34m)\u001b[0m\u001b[0;34m]\u001b[0m\u001b[0;34m,\u001b[0m \u001b[0msrange\u001b[0m\u001b[0;34m[\u001b[0m\u001b[0mInteger\u001b[0m\u001b[0;34m(\u001b[0m\u001b[0;36m1\u001b[0m\u001b[0;34m)\u001b[0m\u001b[0;34m]\u001b[0m\u001b[0;34m,\u001b[0m \u001b[0mround\u001b[0m\u001b[0;34m(\u001b[0m\u001b[0;34m(\u001b[0m\u001b[0msrange\u001b[0m\u001b[0;34m[\u001b[0m\u001b[0mInteger\u001b[0m\u001b[0;34m(\u001b[0m\u001b[0;36m1\u001b[0m\u001b[0;34m)\u001b[0m\u001b[0;34m]\u001b[0m \u001b[0;34m-\u001b[0m \u001b[0msrange\u001b[0m\u001b[0;34m[\u001b[0m\u001b[0mInteger\u001b[0m\u001b[0;34m(\u001b[0m\u001b[0;36m0\u001b[0m\u001b[0;34m)\u001b[0m\u001b[0;34m]\u001b[0m\u001b[0;34m)\u001b[0m \u001b[0;34m/\u001b[0m \u001b[0mstep_size\u001b[0m\u001b[0;34m)\u001b[0m\u001b[0;34m)\u001b[0m\u001b[0;34m\u001b[0m\u001b[0;34m\u001b[0m\u001b[0m\n\u001b[0;32m----> 6\u001b[0;31m     \u001b[0my_spline\u001b[0m \u001b[0;34m=\u001b[0m \u001b[0mspline\u001b[0m\u001b[0;34m(\u001b[0m\u001b[0;34m[\u001b[0m\u001b[0;34m(\u001b[0m\u001b[0mrho\u001b[0m\u001b[0;34m,\u001b[0m \u001b[0my\u001b[0m\u001b[0;34m(\u001b[0m\u001b[0mrho\u001b[0m\u001b[0;34m)\u001b[0m\u001b[0;34m)\u001b[0m \u001b[0;32mfor\u001b[0m \u001b[0mrho\u001b[0m \u001b[0;32min\u001b[0m \u001b[0mrho_space\u001b[0m\u001b[0;34m]\u001b[0m\u001b[0;34m)\u001b[0m\u001b[0;34m\u001b[0m\u001b[0;34m\u001b[0m\u001b[0m\n\u001b[0m\u001b[1;32m      7\u001b[0m \u001b[0;34m\u001b[0m\u001b[0m\n\u001b[1;32m      8\u001b[0m     \u001b[0;32mdef\u001b[0m \u001b[0mx\u001b[0m\u001b[0;34m(\u001b[0m\u001b[0mrho\u001b[0m\u001b[0;34m)\u001b[0m\u001b[0;34m:\u001b[0m\u001b[0;34m\u001b[0m\u001b[0;34m\u001b[0m\u001b[0m\n",
      "\u001b[0;32m<ipython-input-297-589172d3ee6f>\u001b[0m in \u001b[0;36my\u001b[0;34m(rho)\u001b[0m\n\u001b[1;32m      1\u001b[0m \u001b[0;32mdef\u001b[0m \u001b[0mxy_splines_from_hm\u001b[0m\u001b[0;34m(\u001b[0m\u001b[0mh\u001b[0m\u001b[0;34m,\u001b[0m \u001b[0mm\u001b[0m\u001b[0;34m,\u001b[0m \u001b[0msrange\u001b[0m\u001b[0;34m=\u001b[0m\u001b[0;34m(\u001b[0m\u001b[0mInteger\u001b[0m\u001b[0;34m(\u001b[0m\u001b[0;36m0\u001b[0m\u001b[0;34m)\u001b[0m\u001b[0;34m,\u001b[0m \u001b[0mpi\u001b[0m\u001b[0;34m)\u001b[0m\u001b[0;34m,\u001b[0m \u001b[0mstep_size\u001b[0m\u001b[0;34m=\u001b[0m\u001b[0mRealNumber\u001b[0m\u001b[0;34m(\u001b[0m\u001b[0;34m'0.1'\u001b[0m\u001b[0;34m)\u001b[0m\u001b[0;34m)\u001b[0m\u001b[0;34m:\u001b[0m\u001b[0;34m\u001b[0m\u001b[0;34m\u001b[0m\u001b[0m\n\u001b[1;32m      2\u001b[0m     \u001b[0;32mdef\u001b[0m \u001b[0my\u001b[0m\u001b[0;34m(\u001b[0m\u001b[0mrho\u001b[0m\u001b[0;34m)\u001b[0m\u001b[0;34m:\u001b[0m\u001b[0;34m\u001b[0m\u001b[0;34m\u001b[0m\u001b[0m\n\u001b[0;32m----> 3\u001b[0;31m         \u001b[0;32mreturn\u001b[0m \u001b[0msqrt\u001b[0m\u001b[0;34m(\u001b[0m\u001b[0mm\u001b[0m\u001b[0;34m(\u001b[0m\u001b[0mrho\u001b[0m\u001b[0;34m)\u001b[0m\u001b[0;34m)\u001b[0m\u001b[0;34m\u001b[0m\u001b[0;34m\u001b[0m\u001b[0m\n\u001b[0m\u001b[1;32m      4\u001b[0m \u001b[0;34m\u001b[0m\u001b[0m\n\u001b[1;32m      5\u001b[0m     \u001b[0mrho_space\u001b[0m \u001b[0;34m=\u001b[0m \u001b[0mnp\u001b[0m\u001b[0;34m.\u001b[0m\u001b[0mlinspace\u001b[0m\u001b[0;34m(\u001b[0m\u001b[0msrange\u001b[0m\u001b[0;34m[\u001b[0m\u001b[0mInteger\u001b[0m\u001b[0;34m(\u001b[0m\u001b[0;36m0\u001b[0m\u001b[0;34m)\u001b[0m\u001b[0;34m]\u001b[0m\u001b[0;34m,\u001b[0m \u001b[0msrange\u001b[0m\u001b[0;34m[\u001b[0m\u001b[0mInteger\u001b[0m\u001b[0;34m(\u001b[0m\u001b[0;36m1\u001b[0m\u001b[0;34m)\u001b[0m\u001b[0;34m]\u001b[0m\u001b[0;34m,\u001b[0m \u001b[0mround\u001b[0m\u001b[0;34m(\u001b[0m\u001b[0;34m(\u001b[0m\u001b[0msrange\u001b[0m\u001b[0;34m[\u001b[0m\u001b[0mInteger\u001b[0m\u001b[0;34m(\u001b[0m\u001b[0;36m1\u001b[0m\u001b[0;34m)\u001b[0m\u001b[0;34m]\u001b[0m \u001b[0;34m-\u001b[0m \u001b[0msrange\u001b[0m\u001b[0;34m[\u001b[0m\u001b[0mInteger\u001b[0m\u001b[0;34m(\u001b[0m\u001b[0;36m0\u001b[0m\u001b[0;34m)\u001b[0m\u001b[0;34m]\u001b[0m\u001b[0;34m)\u001b[0m \u001b[0;34m/\u001b[0m \u001b[0mstep_size\u001b[0m\u001b[0;34m)\u001b[0m\u001b[0;34m)\u001b[0m\u001b[0;34m\u001b[0m\u001b[0;34m\u001b[0m\u001b[0m\n",
      "\u001b[0;32m/opt/sagemath-9.3/local/lib/python3.7/site-packages/sage/functions/other.py\u001b[0m in \u001b[0;36msqrt\u001b[0;34m(x, *args, **kwds)\u001b[0m\n\u001b[1;32m    891\u001b[0m         \"\"\"\n\u001b[1;32m    892\u001b[0m         \u001b[0;32mif\u001b[0m \u001b[0misinstance\u001b[0m\u001b[0;34m(\u001b[0m\u001b[0mx\u001b[0m\u001b[0;34m,\u001b[0m \u001b[0mfloat\u001b[0m\u001b[0;34m)\u001b[0m\u001b[0;34m:\u001b[0m\u001b[0;34m\u001b[0m\u001b[0;34m\u001b[0m\u001b[0m\n\u001b[0;32m--> 893\u001b[0;31m             \u001b[0;32mreturn\u001b[0m \u001b[0mmath\u001b[0m\u001b[0;34m.\u001b[0m\u001b[0msqrt\u001b[0m\u001b[0;34m(\u001b[0m\u001b[0mx\u001b[0m\u001b[0;34m)\u001b[0m\u001b[0;34m\u001b[0m\u001b[0;34m\u001b[0m\u001b[0m\n\u001b[0m\u001b[1;32m    894\u001b[0m         \u001b[0;32melif\u001b[0m \u001b[0mtype\u001b[0m\u001b[0;34m(\u001b[0m\u001b[0mx\u001b[0m\u001b[0;34m)\u001b[0m\u001b[0;34m.\u001b[0m\u001b[0m__module__\u001b[0m \u001b[0;34m==\u001b[0m \u001b[0;34m'numpy'\u001b[0m\u001b[0;34m:\u001b[0m\u001b[0;34m\u001b[0m\u001b[0;34m\u001b[0m\u001b[0m\n\u001b[1;32m    895\u001b[0m             \u001b[0;32mfrom\u001b[0m \u001b[0mnumpy\u001b[0m \u001b[0;32mimport\u001b[0m \u001b[0msqrt\u001b[0m\u001b[0;34m\u001b[0m\u001b[0;34m\u001b[0m\u001b[0m\n",
      "\u001b[0;31mValueError\u001b[0m: math domain error"
     ]
    }
   ],
   "source": [
    "def K(y, rho):\n",
    "    return y.derivative(rho, order=2)/y(rho)   \n",
    "\n",
    "dt=0.00001\n",
    "h_ = spline([(rho, h_rho_ - 2*K(y, rho)*dt) for rho, h_rho_ in h.list()])\n",
    "m_ = spline([(rho, m_rho_ - 2*K(y, rho)*dt) for rho, m_rho_ in m.list()])\n",
    "print(m_.list())\n",
    "x, y = xy_splines_from_hm(h_, m_, srange)"
   ]
  },
  {
   "cell_type": "code",
   "execution_count": null,
   "metadata": {},
   "outputs": [],
   "source": [
    "def K(y, rho):\n",
    "    return y.derivative(rho, order=2)/y(rho)\n",
    "\n",
    "steps = 100\n",
    "t_space, dt = np.linspace(0, 1, steps, retstep=True)\n",
    "plots = []\n",
    "for t in t_space:\n",
    "    h = spline([(rho, h_rho_ - 2*K(y, rho)*dt) for rho, h_rho_ in h.list()])\n",
    "    m = spline([(rho, m_rho_ - 2*K(y, rho)*dt) for rho, m_rho_ in m.list()])\n",
    "    print(h.list())\n",
    "    x, y = xy_splines_from_hm(h, m, srange)\n",
    "    plots.append([parametric_plot((x, y), (y.list()[0][0], y.list()[-1][0]))])\n",
    "    \n",
    "a = animate(plots)\n",
    "a.show()"
   ]
  },
  {
   "cell_type": "code",
   "execution_count": null,
   "metadata": {},
   "outputs": [],
   "source": []
  }
 ],
 "metadata": {
  "kernelspec": {
   "display_name": "SageMath 9.3",
   "language": "sage",
   "name": "sagemath"
  },
  "language_info": {
   "codemirror_mode": {
    "name": "ipython",
    "version": 3
   },
   "file_extension": ".py",
   "mimetype": "text/x-python",
   "name": "python",
   "nbconvert_exporter": "python",
   "pygments_lexer": "ipython3",
   "version": "3.7.10"
  }
 },
 "nbformat": 4,
 "nbformat_minor": 4
}
