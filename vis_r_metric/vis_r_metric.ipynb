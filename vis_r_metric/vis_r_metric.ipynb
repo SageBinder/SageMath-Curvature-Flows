{
 "cells": [
  {
   "cell_type": "code",
   "execution_count": 151,
   "metadata": {},
   "outputs": [],
   "source": [
    "def EFG(X, u, v):\n",
    "    X_u = X.diff(u)\n",
    "    X_v = X.diff(v)\n",
    "    E(u, v) = X_u.dot_product(X_u)\n",
    "    F(u, v) = X_u.dot_product(X_v)\n",
    "    G(u, v) = X_v.dot_product(X_v)\n",
    "    return (E, F, G)\n",
    "\n",
    "\n",
    "def metric(X, u, v):\n",
    "    E, F, G = EFG(X, u, v)\n",
    "    def g(x, y): return matrix([[E(x, y), F(x, y)], [F(x, y), G(x, y)]])\n",
    "    return g\n",
    "\n",
    "\n",
    "def sample_metric(g, urange=(-1, 1), vrange=(-1, 1), ucount=5, vcount=5, sq_len=0.2):\n",
    "    squares = []\n",
    "    transformed_squares = []\n",
    "\n",
    "    uspace = np.linspace(urange[0], urange[1], ucount)\n",
    "    vspace = np.linspace(vrange[0], vrange[1], vcount)\n",
    "    space = cartesian_product_iterator([uspace, vspace])\n",
    "    for u, v in space:\n",
    "        square = matrix([[-sq_len/2, -sq_len/2, sq_len/2, sq_len/2], [-sq_len/2, sq_len/2, sq_len/2, -sq_len/2]])\n",
    "        translate = matrix([[u, u, u, u], [v, v, v, v]])\n",
    "        transformed = g(u, v) * square\n",
    "        \n",
    "        squares.append(square + translate)\n",
    "        transformed_squares.append(transformed + translate)\n",
    "\n",
    "    return squares, transformed_squares"
   ]
  },
  {
   "cell_type": "code",
   "execution_count": 154,
   "metadata": {},
   "outputs": [
    {
     "data": {
      "image/png": "[encoded data removed]",
      "text/plain": [
       "Graphics object consisting of 50 graphics primitives"
      ]
     },
     "metadata": {},
     "output_type": "display_data"
    }
   ],
   "source": [
    "# X(theta, phi) = (cos(theta)*sin(phi),sin(theta)*sin(phi),cos(phi))\n",
    "# g = metric(X, theta, phi)\n",
    "\n",
    "# X(u, v) = (u, v, (u^2 + v^2)/2)\n",
    "X(u, v) = (u, v, 1/(u^2 + v^2 + 1))\n",
    "g = metric(X, u, v)\n",
    "squares, transformed_squares = sample_metric(g)\n",
    "\n",
    "plot = Graphics()\n",
    "plot += sum([polygon([(x, y) for x, y in transformed.transpose()], color='cyan') for transformed in transformed_squares])\n",
    "plot += sum([polygon([(x, y) for x, y in square.transpose()], fill=False, color='black') for square in squares])\n",
    "show(plot)"
   ]
  },
  {
   "cell_type": "code",
   "execution_count": null,
   "metadata": {},
   "outputs": [],
   "source": []
  },
  {
   "cell_type": "code",
   "execution_count": null,
   "metadata": {},
   "outputs": [],
   "source": []
  }
 ],
 "metadata": {
  "kernelspec": {
   "display_name": "SageMath 9.3",
   "language": "sage",
   "name": "sagemath"
  },
  "language_info": {
   "codemirror_mode": {
    "name": "ipython",
    "version": 3
   },
   "file_extension": ".py",
   "mimetype": "text/x-python",
   "name": "python",
   "nbconvert_exporter": "python",
   "pygments_lexer": "ipython3",
   "version": "3.7.10"
  }
 },
 "nbformat": 4,
 "nbformat_minor": 4
}
