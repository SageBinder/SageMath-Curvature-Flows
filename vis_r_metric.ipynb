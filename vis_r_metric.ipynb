{
 "cells": [
  {
   "cell_type": "code",
   "execution_count": 32,
   "metadata": {},
   "outputs": [],
   "source": [
    "import numpy as np\n",
    "\n",
    "def EFG(X, u, v):\n",
    "    X_u = X.diff(u)\n",
    "    X_v = X.diff(v)\n",
    "    E(u, v) = X_u.dot_product(X_u)\n",
    "    F(u, v) = X_u.dot_product(X_v)\n",
    "    G(u, v) = X_v.dot_product(X_v)\n",
    "    return (E, F, G)\n",
    "\n",
    "\n",
    "def metric(X, u, v):\n",
    "    E, F, G = EFG(X, u, v)\n",
    "    def g(x, y): return matrix([[E(x, y), F(x, y)], [F(x, y), G(x, y)]])\n",
    "    return g\n",
    "\n",
    "\n",
    "def sample_metric(g, urange=(-1, 1), vrange=(-1, 1), ucount=5, vcount=5, sq_len=0.2):\n",
    "    squares = []\n",
    "    transformed_squares = []\n",
    "\n",
    "    uspace = np.linspace(urange[0], urange[1], ucount)\n",
    "    vspace = np.linspace(vrange[0], vrange[1], vcount)\n",
    "    space = cartesian_product_iterator([uspace, vspace])\n",
    "    for u, v in space:\n",
    "        square = matrix([[-sq_len/2, -sq_len/2, sq_len/2, sq_len/2], [-sq_len/2, sq_len/2, sq_len/2, -sq_len/2]])\n",
    "        translate = matrix([[u, u, u, u], [v, v, v, v]])\n",
    "        transformed = g(u, v) * square\n",
    "        \n",
    "        squares.append(square + translate)\n",
    "        transformed_squares.append(transformed + translate)\n",
    "\n",
    "    return squares, transformed_squares"
   ]
  },
  {
   "cell_type": "code",
   "execution_count": null,
   "metadata": {},
   "outputs": [],
   "source": []
  },
  {
   "cell_type": "code",
   "execution_count": null,
   "metadata": {},
   "outputs": [],
   "source": []
  },
  {
   "cell_type": "code",
   "execution_count": 37,
   "metadata": {},
   "outputs": [],
   "source": [
    "def christoffel(u, v, E, F, G, as_dict=False):\n",
    "    E_u = diff(E, u)\n",
    "    E_v = diff(E, v)\n",
    "    F_u = diff(F, u)\n",
    "    F_v = diff(F, v)\n",
    "    G_u = diff(G, u)\n",
    "    G_v = diff(G, v)\n",
    "    \n",
    "    C111 = var('C111')\n",
    "    C121 = var('C121')\n",
    "    C221 = var('C221')\n",
    "    C112 = var('C112')\n",
    "    C122 = var('C122')\n",
    "    C222 = var('C222')\n",
    "    \n",
    "    eqn_11 = C111 * E + C112 * F == 1/2 * E_u\n",
    "    eqn_12 = C111 * F + C112 * G == F_u - 1/2 * E_v\n",
    "    \n",
    "    eqn_21 = C121 * E + C122 * F == 1/2 * E_v\n",
    "    eqn_22 = C121 * F + C122 * G == 1/2 * G_u\n",
    "    \n",
    "    eqn_31 = C221 * E + C222 * F == F_v - 1/2 * G_u\n",
    "    eqn_32 = C221 * F + C222 * G == 1/2 * G_v\n",
    "    \n",
    "    C_sol_1 = solve([eqn_11, eqn_12], C111, C112)\n",
    "    C_sol_2 = solve([eqn_21, eqn_22], C121, C122)\n",
    "    C_sol_3 = solve([eqn_31, eqn_32], C221, C222)\n",
    "    \n",
    "    # We substitute the solutions for the Christoffel symbols into the Cijk to be returned.\n",
    "    C111 = C111.subs(C_sol_1[0])\n",
    "    C112 = C112.subs(C_sol_1[0])\n",
    "    C121 = C121.subs(C_sol_2[0])\n",
    "    C122 = C122.subs(C_sol_2[0])\n",
    "    C221 = C221.subs(C_sol_3[0])\n",
    "    C222 = C222.subs(C_sol_3[0])\n",
    "    \n",
    "    if as_dict:\n",
    "        christoffel_dict = {1: {1: {1: {}, 2: {}}, 2: {1: {}, 2: {}}}, 2: {1: {1: {}, 2: {}}, 2: {1: {}, 2: {}}}}\n",
    "        christoffel_dict[1][1][1] = C111\n",
    "        christoffel_dict[1][1][2] = C112\n",
    "        christoffel_dict[1][2][1] = C121\n",
    "        christoffel_dict[1][2][2] = C122\n",
    "        christoffel_dict[2][2][1] = C221\n",
    "        christoffel_dict[2][2][2] = C222\n",
    "\n",
    "        christoffel_dict[2][1][1] = C121\n",
    "        christoffel_dict[2][1][2] = C122\n",
    "\n",
    "        return christoffel_dict\n",
    "    else:\n",
    "        return C111, C112, C121, C112, C221, C222"
   ]
  },
  {
   "cell_type": "code",
   "execution_count": 38,
   "metadata": {},
   "outputs": [
    {
     "data": {
      "image/png": "[encoded data removed]",
      "text/plain": [
       "Graphics object consisting of 50 graphics primitives"
      ]
     },
     "metadata": {},
     "output_type": "display_data"
    }
   ],
   "source": [
    "X(theta, phi) = (cos(theta)*sin(phi),sin(theta)*sin(phi),cos(phi))\n",
    "g = metric(X, theta, phi)\n",
    "\n",
    "# X(u, v) = (u, v, (u^2 + v^2)/2)\n",
    "# X(u, v) = (u, v, 1/(u^2 + v^2 + 1))\n",
    "# g = metric(X, u, v)\n",
    "squares, transformed_squares = sample_metric(g)\n",
    "\n",
    "plot = Graphics()\n",
    "plot += sum([polygon([(x, y) for x, y in transformed.transpose()], color='cyan', axes=False) for transformed in transformed_squares])\n",
    "plot += sum([polygon([(x, y) for x, y in square.transpose()], fill=False, color='black', axes=False) for square in squares])\n",
    "show(plot)"
   ]
  },
  {
   "cell_type": "code",
   "execution_count": 46,
   "metadata": {},
   "outputs": [
    {
     "name": "stdout",
     "output_type": "stream",
     "text": [
      "(u, v) |--> diff(x1(v, u), u)^2 + diff(x2(v, u), u)^2 + diff(x3(v, u), u)^2\n",
      "(u, v) |--> diff(x1(v, u), v)*diff(x1(v, u), u) + diff(x2(v, u), v)*diff(x2(v, u), u) + diff(x3(v, u), v)*diff(x3(v, u), u)\n",
      "(u, v) |--> diff(x1(v, u), v)^2 + diff(x2(v, u), v)^2 + diff(x3(v, u), v)^2\n",
      "\n",
      "(diff(x1(v, u), u)*diff(x1(v, u), u, u)*diff(x2(v, u), v)^2 + diff(x1(v, u), v)^2*diff(x2(v, u), u)*diff(x2(v, u), u, u) + (diff(x1(v, u), u)*diff(x1(v, u), u, u) + diff(x2(v, u), u)*diff(x2(v, u), u, u))*diff(x3(v, u), v)^2 + (diff(x1(v, u), v)^2 + diff(x2(v, u), v)^2)*diff(x3(v, u), u)*diff(x3(v, u), u, u) - (diff(x1(v, u), v)*diff(x1(v, u), u, u)*diff(x2(v, u), u) + diff(x1(v, u), v)*diff(x1(v, u), u)*diff(x2(v, u), u, u))*diff(x2(v, u), v) - ((diff(x1(v, u), v)*diff(x1(v, u), u, u) + diff(x2(v, u), v)*diff(x2(v, u), u, u))*diff(x3(v, u), u) + (diff(x1(v, u), v)*diff(x1(v, u), u) + diff(x2(v, u), v)*diff(x2(v, u), u))*diff(x3(v, u), u, u))*diff(x3(v, u), v))/(diff(x1(v, u), u)^2*diff(x2(v, u), v)^2 - 2*diff(x1(v, u), v)*diff(x1(v, u), u)*diff(x2(v, u), v)*diff(x2(v, u), u) + diff(x1(v, u), v)^2*diff(x2(v, u), u)^2 + (diff(x1(v, u), u)^2 + diff(x2(v, u), u)^2)*diff(x3(v, u), v)^2 - 2*(diff(x1(v, u), v)*diff(x1(v, u), u) + diff(x2(v, u), v)*diff(x2(v, u), u))*diff(x3(v, u), v)*diff(x3(v, u), u) + (diff(x1(v, u), v)^2 + diff(x2(v, u), v)^2)*diff(x3(v, u), u)^2)\n",
      "\n",
      "(diff(x1(v, u), v)*diff(x1(v, u), u, u)*diff(x2(v, u), u)^2 - diff(x1(v, u), v)*diff(x1(v, u), u)*diff(x2(v, u), u)*diff(x2(v, u), u, u) + (diff(x1(v, u), v)*diff(x1(v, u), u, u) + diff(x2(v, u), v)*diff(x2(v, u), u, u))*diff(x3(v, u), u)^2 - (diff(x1(v, u), v)*diff(x1(v, u), u) + diff(x2(v, u), v)*diff(x2(v, u), u))*diff(x3(v, u), u)*diff(x3(v, u), u, u) - (diff(x1(v, u), u)*diff(x1(v, u), u, u)*diff(x2(v, u), u) - diff(x1(v, u), u)^2*diff(x2(v, u), u, u))*diff(x2(v, u), v) - ((diff(x1(v, u), u)*diff(x1(v, u), u, u) + diff(x2(v, u), u)*diff(x2(v, u), u, u))*diff(x3(v, u), u) - (diff(x1(v, u), u)^2 + diff(x2(v, u), u)^2)*diff(x3(v, u), u, u))*diff(x3(v, u), v))/(diff(x1(v, u), u)^2*diff(x2(v, u), v)^2 - 2*diff(x1(v, u), v)*diff(x1(v, u), u)*diff(x2(v, u), v)*diff(x2(v, u), u) + diff(x1(v, u), v)^2*diff(x2(v, u), u)^2 + (diff(x1(v, u), u)^2 + diff(x2(v, u), u)^2)*diff(x3(v, u), v)^2 - 2*(diff(x1(v, u), v)*diff(x1(v, u), u) + diff(x2(v, u), v)*diff(x2(v, u), u))*diff(x3(v, u), v)*diff(x3(v, u), u) + (diff(x1(v, u), v)^2 + diff(x2(v, u), v)^2)*diff(x3(v, u), u)^2)\n",
      "\n",
      "(diff(x1(v, u), v, u)*diff(x1(v, u), u)*diff(x2(v, u), v)^2 + diff(x1(v, u), v)^2*diff(x2(v, u), v, u)*diff(x2(v, u), u) + (diff(x1(v, u), v, u)*diff(x1(v, u), u) + diff(x2(v, u), v, u)*diff(x2(v, u), u))*diff(x3(v, u), v)^2 + (diff(x1(v, u), v)^2 + diff(x2(v, u), v)^2)*diff(x3(v, u), v, u)*diff(x3(v, u), u) - (diff(x1(v, u), v)*diff(x1(v, u), u)*diff(x2(v, u), v, u) + diff(x1(v, u), v)*diff(x1(v, u), v, u)*diff(x2(v, u), u))*diff(x2(v, u), v) - ((diff(x1(v, u), v)*diff(x1(v, u), u) + diff(x2(v, u), v)*diff(x2(v, u), u))*diff(x3(v, u), v, u) + (diff(x1(v, u), v)*diff(x1(v, u), v, u) + diff(x2(v, u), v)*diff(x2(v, u), v, u))*diff(x3(v, u), u))*diff(x3(v, u), v))/(diff(x1(v, u), u)^2*diff(x2(v, u), v)^2 - 2*diff(x1(v, u), v)*diff(x1(v, u), u)*diff(x2(v, u), v)*diff(x2(v, u), u) + diff(x1(v, u), v)^2*diff(x2(v, u), u)^2 + (diff(x1(v, u), u)^2 + diff(x2(v, u), u)^2)*diff(x3(v, u), v)^2 - 2*(diff(x1(v, u), v)*diff(x1(v, u), u) + diff(x2(v, u), v)*diff(x2(v, u), u))*diff(x3(v, u), v)*diff(x3(v, u), u) + (diff(x1(v, u), v)^2 + diff(x2(v, u), v)^2)*diff(x3(v, u), u)^2)\n",
      "\n",
      "(diff(x1(v, u), v)*diff(x1(v, u), u, u)*diff(x2(v, u), u)^2 - diff(x1(v, u), v)*diff(x1(v, u), u)*diff(x2(v, u), u)*diff(x2(v, u), u, u) + (diff(x1(v, u), v)*diff(x1(v, u), u, u) + diff(x2(v, u), v)*diff(x2(v, u), u, u))*diff(x3(v, u), u)^2 - (diff(x1(v, u), v)*diff(x1(v, u), u) + diff(x2(v, u), v)*diff(x2(v, u), u))*diff(x3(v, u), u)*diff(x3(v, u), u, u) - (diff(x1(v, u), u)*diff(x1(v, u), u, u)*diff(x2(v, u), u) - diff(x1(v, u), u)^2*diff(x2(v, u), u, u))*diff(x2(v, u), v) - ((diff(x1(v, u), u)*diff(x1(v, u), u, u) + diff(x2(v, u), u)*diff(x2(v, u), u, u))*diff(x3(v, u), u) - (diff(x1(v, u), u)^2 + diff(x2(v, u), u)^2)*diff(x3(v, u), u, u))*diff(x3(v, u), v))/(diff(x1(v, u), u)^2*diff(x2(v, u), v)^2 - 2*diff(x1(v, u), v)*diff(x1(v, u), u)*diff(x2(v, u), v)*diff(x2(v, u), u) + diff(x1(v, u), v)^2*diff(x2(v, u), u)^2 + (diff(x1(v, u), u)^2 + diff(x2(v, u), u)^2)*diff(x3(v, u), v)^2 - 2*(diff(x1(v, u), v)*diff(x1(v, u), u) + diff(x2(v, u), v)*diff(x2(v, u), u))*diff(x3(v, u), v)*diff(x3(v, u), u) + (diff(x1(v, u), v)^2 + diff(x2(v, u), v)^2)*diff(x3(v, u), u)^2)\n",
      "\n",
      "(diff(x1(v, u), v, v)*diff(x1(v, u), u)*diff(x2(v, u), v)^2 - diff(x1(v, u), v)*diff(x1(v, u), v, v)*diff(x2(v, u), v)*diff(x2(v, u), u) + (diff(x1(v, u), v, v)*diff(x1(v, u), u) + diff(x2(v, u), v, v)*diff(x2(v, u), u))*diff(x3(v, u), v)^2 - (diff(x1(v, u), v)*diff(x1(v, u), v, v) + diff(x2(v, u), v)*diff(x2(v, u), v, v))*diff(x3(v, u), v)*diff(x3(v, u), u) - (diff(x1(v, u), v)*diff(x1(v, u), u)*diff(x2(v, u), v) - diff(x1(v, u), v)^2*diff(x2(v, u), u))*diff(x2(v, u), v, v) - ((diff(x1(v, u), v)*diff(x1(v, u), u) + diff(x2(v, u), v)*diff(x2(v, u), u))*diff(x3(v, u), v) - (diff(x1(v, u), v)^2 + diff(x2(v, u), v)^2)*diff(x3(v, u), u))*diff(x3(v, u), v, v))/(diff(x1(v, u), u)^2*diff(x2(v, u), v)^2 - 2*diff(x1(v, u), v)*diff(x1(v, u), u)*diff(x2(v, u), v)*diff(x2(v, u), u) + diff(x1(v, u), v)^2*diff(x2(v, u), u)^2 + (diff(x1(v, u), u)^2 + diff(x2(v, u), u)^2)*diff(x3(v, u), v)^2 - 2*(diff(x1(v, u), v)*diff(x1(v, u), u) + diff(x2(v, u), v)*diff(x2(v, u), u))*diff(x3(v, u), v)*diff(x3(v, u), u) + (diff(x1(v, u), v)^2 + diff(x2(v, u), v)^2)*diff(x3(v, u), u)^2)\n",
      "\n",
      "-(diff(x1(v, u), v, v)*diff(x1(v, u), u)*diff(x2(v, u), v)*diff(x2(v, u), u) - diff(x1(v, u), v)*diff(x1(v, u), v, v)*diff(x2(v, u), u)^2 + (diff(x1(v, u), v, v)*diff(x1(v, u), u) + diff(x2(v, u), v, v)*diff(x2(v, u), u))*diff(x3(v, u), v)*diff(x3(v, u), u) - (diff(x1(v, u), v)*diff(x1(v, u), v, v) + diff(x2(v, u), v)*diff(x2(v, u), v, v))*diff(x3(v, u), u)^2 - (diff(x1(v, u), u)^2*diff(x2(v, u), v) - diff(x1(v, u), v)*diff(x1(v, u), u)*diff(x2(v, u), u))*diff(x2(v, u), v, v) - ((diff(x1(v, u), u)^2 + diff(x2(v, u), u)^2)*diff(x3(v, u), v) - (diff(x1(v, u), v)*diff(x1(v, u), u) + diff(x2(v, u), v)*diff(x2(v, u), u))*diff(x3(v, u), u))*diff(x3(v, u), v, v))/(diff(x1(v, u), u)^2*diff(x2(v, u), v)^2 - 2*diff(x1(v, u), v)*diff(x1(v, u), u)*diff(x2(v, u), v)*diff(x2(v, u), u) + diff(x1(v, u), v)^2*diff(x2(v, u), u)^2 + (diff(x1(v, u), u)^2 + diff(x2(v, u), u)^2)*diff(x3(v, u), v)^2 - 2*(diff(x1(v, u), v)*diff(x1(v, u), u) + diff(x2(v, u), v)*diff(x2(v, u), u))*diff(x3(v, u), v)*diff(x3(v, u), u) + (diff(x1(v, u), v)^2 + diff(x2(v, u), v)^2)*diff(x3(v, u), u)^2)\n",
      "\n",
      "{1: {1: {1: (diff(x1(v, u), u)*diff(x1(v, u), u, u)*diff(x2(v, u), v)^2 + diff(x1(v, u), v)^2*diff(x2(v, u), u)*diff(x2(v, u), u, u) + (diff(x1(v, u), u)*diff(x1(v, u), u, u) + diff(x2(v, u), u)*diff(x2(v, u), u, u))*diff(x3(v, u), v)^2 + (diff(x1(v, u), v)^2 + diff(x2(v, u), v)^2)*diff(x3(v, u), u)*diff(x3(v, u), u, u) - (diff(x1(v, u), v)*diff(x1(v, u), u, u)*diff(x2(v, u), u) + diff(x1(v, u), v)*diff(x1(v, u), u)*diff(x2(v, u), u, u))*diff(x2(v, u), v) - ((diff(x1(v, u), v)*diff(x1(v, u), u, u) + diff(x2(v, u), v)*diff(x2(v, u), u, u))*diff(x3(v, u), u) + (diff(x1(v, u), v)*diff(x1(v, u), u) + diff(x2(v, u), v)*diff(x2(v, u), u))*diff(x3(v, u), u, u))*diff(x3(v, u), v))/(diff(x1(v, u), u)^2*diff(x2(v, u), v)^2 - 2*diff(x1(v, u), v)*diff(x1(v, u), u)*diff(x2(v, u), v)*diff(x2(v, u), u) + diff(x1(v, u), v)^2*diff(x2(v, u), u)^2 + (diff(x1(v, u), u)^2 + diff(x2(v, u), u)^2)*diff(x3(v, u), v)^2 - 2*(diff(x1(v, u), v)*diff(x1(v, u), u) + diff(x2(v, u), v)*diff(x2(v, u), u))*diff(x3(v, u), v)*diff(x3(v, u), u) + (diff(x1(v, u), v)^2 + diff(x2(v, u), v)^2)*diff(x3(v, u), u)^2), 2: (diff(x1(v, u), v)*diff(x1(v, u), u, u)*diff(x2(v, u), u)^2 - diff(x1(v, u), v)*diff(x1(v, u), u)*diff(x2(v, u), u)*diff(x2(v, u), u, u) + (diff(x1(v, u), v)*diff(x1(v, u), u, u) + diff(x2(v, u), v)*diff(x2(v, u), u, u))*diff(x3(v, u), u)^2 - (diff(x1(v, u), v)*diff(x1(v, u), u) + diff(x2(v, u), v)*diff(x2(v, u), u))*diff(x3(v, u), u)*diff(x3(v, u), u, u) - (diff(x1(v, u), u)*diff(x1(v, u), u, u)*diff(x2(v, u), u) - diff(x1(v, u), u)^2*diff(x2(v, u), u, u))*diff(x2(v, u), v) - ((diff(x1(v, u), u)*diff(x1(v, u), u, u) + diff(x2(v, u), u)*diff(x2(v, u), u, u))*diff(x3(v, u), u) - (diff(x1(v, u), u)^2 + diff(x2(v, u), u)^2)*diff(x3(v, u), u, u))*diff(x3(v, u), v))/(diff(x1(v, u), u)^2*diff(x2(v, u), v)^2 - 2*diff(x1(v, u), v)*diff(x1(v, u), u)*diff(x2(v, u), v)*diff(x2(v, u), u) + diff(x1(v, u), v)^2*diff(x2(v, u), u)^2 + (diff(x1(v, u), u)^2 + diff(x2(v, u), u)^2)*diff(x3(v, u), v)^2 - 2*(diff(x1(v, u), v)*diff(x1(v, u), u) + diff(x2(v, u), v)*diff(x2(v, u), u))*diff(x3(v, u), v)*diff(x3(v, u), u) + (diff(x1(v, u), v)^2 + diff(x2(v, u), v)^2)*diff(x3(v, u), u)^2)}, 2: {1: (diff(x1(v, u), v, u)*diff(x1(v, u), u)*diff(x2(v, u), v)^2 + diff(x1(v, u), v)^2*diff(x2(v, u), v, u)*diff(x2(v, u), u) + (diff(x1(v, u), v, u)*diff(x1(v, u), u) + diff(x2(v, u), v, u)*diff(x2(v, u), u))*diff(x3(v, u), v)^2 + (diff(x1(v, u), v)^2 + diff(x2(v, u), v)^2)*diff(x3(v, u), v, u)*diff(x3(v, u), u) - (diff(x1(v, u), v)*diff(x1(v, u), u)*diff(x2(v, u), v, u) + diff(x1(v, u), v)*diff(x1(v, u), v, u)*diff(x2(v, u), u))*diff(x2(v, u), v) - ((diff(x1(v, u), v)*diff(x1(v, u), u) + diff(x2(v, u), v)*diff(x2(v, u), u))*diff(x3(v, u), v, u) + (diff(x1(v, u), v)*diff(x1(v, u), v, u) + diff(x2(v, u), v)*diff(x2(v, u), v, u))*diff(x3(v, u), u))*diff(x3(v, u), v))/(diff(x1(v, u), u)^2*diff(x2(v, u), v)^2 - 2*diff(x1(v, u), v)*diff(x1(v, u), u)*diff(x2(v, u), v)*diff(x2(v, u), u) + diff(x1(v, u), v)^2*diff(x2(v, u), u)^2 + (diff(x1(v, u), u)^2 + diff(x2(v, u), u)^2)*diff(x3(v, u), v)^2 - 2*(diff(x1(v, u), v)*diff(x1(v, u), u) + diff(x2(v, u), v)*diff(x2(v, u), u))*diff(x3(v, u), v)*diff(x3(v, u), u) + (diff(x1(v, u), v)^2 + diff(x2(v, u), v)^2)*diff(x3(v, u), u)^2), 2: -(diff(x1(v, u), v)*diff(x1(v, u), u)*diff(x2(v, u), v, u)*diff(x2(v, u), u) - diff(x1(v, u), v)*diff(x1(v, u), v, u)*diff(x2(v, u), u)^2 + (diff(x1(v, u), v)*diff(x1(v, u), u) + diff(x2(v, u), v)*diff(x2(v, u), u))*diff(x3(v, u), v, u)*diff(x3(v, u), u) - (diff(x1(v, u), v)*diff(x1(v, u), v, u) + diff(x2(v, u), v)*diff(x2(v, u), v, u))*diff(x3(v, u), u)^2 - (diff(x1(v, u), u)^2*diff(x2(v, u), v, u) - diff(x1(v, u), v, u)*diff(x1(v, u), u)*diff(x2(v, u), u))*diff(x2(v, u), v) - ((diff(x1(v, u), u)^2 + diff(x2(v, u), u)^2)*diff(x3(v, u), v, u) - (diff(x1(v, u), v, u)*diff(x1(v, u), u) + diff(x2(v, u), v, u)*diff(x2(v, u), u))*diff(x3(v, u), u))*diff(x3(v, u), v))/(diff(x1(v, u), u)^2*diff(x2(v, u), v)^2 - 2*diff(x1(v, u), v)*diff(x1(v, u), u)*diff(x2(v, u), v)*diff(x2(v, u), u) + diff(x1(v, u), v)^2*diff(x2(v, u), u)^2 + (diff(x1(v, u), u)^2 + diff(x2(v, u), u)^2)*diff(x3(v, u), v)^2 - 2*(diff(x1(v, u), v)*diff(x1(v, u), u) + diff(x2(v, u), v)*diff(x2(v, u), u))*diff(x3(v, u), v)*diff(x3(v, u), u) + (diff(x1(v, u), v)^2 + diff(x2(v, u), v)^2)*diff(x3(v, u), u)^2)}}, 2: {1: {1: (diff(x1(v, u), v, u)*diff(x1(v, u), u)*diff(x2(v, u), v)^2 + diff(x1(v, u), v)^2*diff(x2(v, u), v, u)*diff(x2(v, u), u) + (diff(x1(v, u), v, u)*diff(x1(v, u), u) + diff(x2(v, u), v, u)*diff(x2(v, u), u))*diff(x3(v, u), v)^2 + (diff(x1(v, u), v)^2 + diff(x2(v, u), v)^2)*diff(x3(v, u), v, u)*diff(x3(v, u), u) - (diff(x1(v, u), v)*diff(x1(v, u), u)*diff(x2(v, u), v, u) + diff(x1(v, u), v)*diff(x1(v, u), v, u)*diff(x2(v, u), u))*diff(x2(v, u), v) - ((diff(x1(v, u), v)*diff(x1(v, u), u) + diff(x2(v, u), v)*diff(x2(v, u), u))*diff(x3(v, u), v, u) + (diff(x1(v, u), v)*diff(x1(v, u), v, u) + diff(x2(v, u), v)*diff(x2(v, u), v, u))*diff(x3(v, u), u))*diff(x3(v, u), v))/(diff(x1(v, u), u)^2*diff(x2(v, u), v)^2 - 2*diff(x1(v, u), v)*diff(x1(v, u), u)*diff(x2(v, u), v)*diff(x2(v, u), u) + diff(x1(v, u), v)^2*diff(x2(v, u), u)^2 + (diff(x1(v, u), u)^2 + diff(x2(v, u), u)^2)*diff(x3(v, u), v)^2 - 2*(diff(x1(v, u), v)*diff(x1(v, u), u) + diff(x2(v, u), v)*diff(x2(v, u), u))*diff(x3(v, u), v)*diff(x3(v, u), u) + (diff(x1(v, u), v)^2 + diff(x2(v, u), v)^2)*diff(x3(v, u), u)^2), 2: -(diff(x1(v, u), v)*diff(x1(v, u), u)*diff(x2(v, u), v, u)*diff(x2(v, u), u) - diff(x1(v, u), v)*diff(x1(v, u), v, u)*diff(x2(v, u), u)^2 + (diff(x1(v, u), v)*diff(x1(v, u), u) + diff(x2(v, u), v)*diff(x2(v, u), u))*diff(x3(v, u), v, u)*diff(x3(v, u), u) - (diff(x1(v, u), v)*diff(x1(v, u), v, u) + diff(x2(v, u), v)*diff(x2(v, u), v, u))*diff(x3(v, u), u)^2 - (diff(x1(v, u), u)^2*diff(x2(v, u), v, u) - diff(x1(v, u), v, u)*diff(x1(v, u), u)*diff(x2(v, u), u))*diff(x2(v, u), v) - ((diff(x1(v, u), u)^2 + diff(x2(v, u), u)^2)*diff(x3(v, u), v, u) - (diff(x1(v, u), v, u)*diff(x1(v, u), u) + diff(x2(v, u), v, u)*diff(x2(v, u), u))*diff(x3(v, u), u))*diff(x3(v, u), v))/(diff(x1(v, u), u)^2*diff(x2(v, u), v)^2 - 2*diff(x1(v, u), v)*diff(x1(v, u), u)*diff(x2(v, u), v)*diff(x2(v, u), u) + diff(x1(v, u), v)^2*diff(x2(v, u), u)^2 + (diff(x1(v, u), u)^2 + diff(x2(v, u), u)^2)*diff(x3(v, u), v)^2 - 2*(diff(x1(v, u), v)*diff(x1(v, u), u) + diff(x2(v, u), v)*diff(x2(v, u), u))*diff(x3(v, u), v)*diff(x3(v, u), u) + (diff(x1(v, u), v)^2 + diff(x2(v, u), v)^2)*diff(x3(v, u), u)^2)}, 2: {1: (diff(x1(v, u), v, v)*diff(x1(v, u), u)*diff(x2(v, u), v)^2 - diff(x1(v, u), v)*diff(x1(v, u), v, v)*diff(x2(v, u), v)*diff(x2(v, u), u) + (diff(x1(v, u), v, v)*diff(x1(v, u), u) + diff(x2(v, u), v, v)*diff(x2(v, u), u))*diff(x3(v, u), v)^2 - (diff(x1(v, u), v)*diff(x1(v, u), v, v) + diff(x2(v, u), v)*diff(x2(v, u), v, v))*diff(x3(v, u), v)*diff(x3(v, u), u) - (diff(x1(v, u), v)*diff(x1(v, u), u)*diff(x2(v, u), v) - diff(x1(v, u), v)^2*diff(x2(v, u), u))*diff(x2(v, u), v, v) - ((diff(x1(v, u), v)*diff(x1(v, u), u) + diff(x2(v, u), v)*diff(x2(v, u), u))*diff(x3(v, u), v) - (diff(x1(v, u), v)^2 + diff(x2(v, u), v)^2)*diff(x3(v, u), u))*diff(x3(v, u), v, v))/(diff(x1(v, u), u)^2*diff(x2(v, u), v)^2 - 2*diff(x1(v, u), v)*diff(x1(v, u), u)*diff(x2(v, u), v)*diff(x2(v, u), u) + diff(x1(v, u), v)^2*diff(x2(v, u), u)^2 + (diff(x1(v, u), u)^2 + diff(x2(v, u), u)^2)*diff(x3(v, u), v)^2 - 2*(diff(x1(v, u), v)*diff(x1(v, u), u) + diff(x2(v, u), v)*diff(x2(v, u), u))*diff(x3(v, u), v)*diff(x3(v, u), u) + (diff(x1(v, u), v)^2 + diff(x2(v, u), v)^2)*diff(x3(v, u), u)^2), 2: -(diff(x1(v, u), v, v)*diff(x1(v, u), u)*diff(x2(v, u), v)*diff(x2(v, u), u) - diff(x1(v, u), v)*diff(x1(v, u), v, v)*diff(x2(v, u), u)^2 + (diff(x1(v, u), v, v)*diff(x1(v, u), u) + diff(x2(v, u), v, v)*diff(x2(v, u), u))*diff(x3(v, u), v)*diff(x3(v, u), u) - (diff(x1(v, u), v)*diff(x1(v, u), v, v) + diff(x2(v, u), v)*diff(x2(v, u), v, v))*diff(x3(v, u), u)^2 - (diff(x1(v, u), u)^2*diff(x2(v, u), v) - diff(x1(v, u), v)*diff(x1(v, u), u)*diff(x2(v, u), u))*diff(x2(v, u), v, v) - ((diff(x1(v, u), u)^2 + diff(x2(v, u), u)^2)*diff(x3(v, u), v) - (diff(x1(v, u), v)*diff(x1(v, u), u) + diff(x2(v, u), v)*diff(x2(v, u), u))*diff(x3(v, u), u))*diff(x3(v, u), v, v))/(diff(x1(v, u), u)^2*diff(x2(v, u), v)^2 - 2*diff(x1(v, u), v)*diff(x1(v, u), u)*diff(x2(v, u), v)*diff(x2(v, u), u) + diff(x1(v, u), v)^2*diff(x2(v, u), u)^2 + (diff(x1(v, u), u)^2 + diff(x2(v, u), u)^2)*diff(x3(v, u), v)^2 - 2*(diff(x1(v, u), v)*diff(x1(v, u), u) + diff(x2(v, u), v)*diff(x2(v, u), u))*diff(x3(v, u), v)*diff(x3(v, u), u) + (diff(x1(v, u), v)^2 + diff(x2(v, u), v)^2)*diff(x3(v, u), u)^2)}}}\n"
     ]
    }
   ],
   "source": [
    "u, v = var(\"u, v\")\n",
    "phi = function(\"phi\")(v)\n",
    "psi = function(\"psi\")(v)\n",
    "\n",
    "x1(u, v) = function(\"x1\")(v, u)\n",
    "x2(u, v) = function(\"x2\")(v, u)\n",
    "x3(u, v) = function(\"x3\")(v, u)\n",
    "\n",
    "# X(u, v) = (phi(v)*cos(u), phi(v)*sin(u), psi(v))\n",
    "X(u, v) = (x1(u, v), x2(u, v), x3(u, v))\n",
    "E, F, G = EFG(X, u, v)\n",
    "E = E.full_simplify()\n",
    "F = F.full_simplify()\n",
    "G = G.full_simplify()\n",
    "print(E)\n",
    "print(F)\n",
    "print(G)\n",
    "print()\n",
    "C = christoffel(u, v, E, F, G)\n",
    "for c in C:\n",
    "    print(c)\n",
    "    print()\n",
    "    \n",
    "C_dict = christoffel(u, v, E, F, G, as_dict=True)\n",
    "print(C_dict)"
   ]
  },
  {
   "cell_type": "code",
   "execution_count": null,
   "metadata": {},
   "outputs": [],
   "source": []
  },
  {
   "cell_type": "code",
   "execution_count": null,
   "metadata": {},
   "outputs": [],
   "source": []
  }
 ],
 "metadata": {
  "kernelspec": {
   "display_name": "SageMath 9.3",
   "language": "sage",
   "name": "sagemath"
  },
  "language_info": {
   "codemirror_mode": {
    "name": "ipython",
    "version": 3
   },
   "file_extension": ".py",
   "mimetype": "text/x-python",
   "name": "python",
   "nbconvert_exporter": "python",
   "pygments_lexer": "ipython3",
   "version": "3.7.10"
  }
 },
 "nbformat": 4,
 "nbformat_minor": 4
}
